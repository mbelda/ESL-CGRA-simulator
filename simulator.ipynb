{
 "cells": [
  {
   "attachments": {},
   "cell_type": "markdown",
   "id": "9c085e9d",
   "metadata": {},
   "source": [
    "# Test a ready kernel"
   ]
  },
  {
   "cell_type": "code",
   "execution_count": 2,
   "id": "93cdc330-9553-4750-9f9b-ced2c9da81e2",
   "metadata": {
    "tags": []
   },
   "outputs": [
    {
     "name": "stdout",
     "output_type": "stream",
     "text": [
      "Instr =  0 ( 0 )\n",
      "[   1,    1,    1,    9]    [LWI , LWI , LWI , LWD ]    \n",
      "[   0,    0,    0,    0]    [LWD , LWD , LWD , NOP ]    \n",
      "[   0,    0,    0,    0]    [LWD , LWD , LWD , NOP ]    \n",
      "[   0,    0,    0,    0]    [NOP , NOP , NOP , NOP ]    \n",
      "-------\n",
      "Instr =  1 ( 1 )\n",
      "[   2,    2,    2,    6]    [SMUL, SMUL, SMUL, SSUB]    \n",
      "[   4,    4,    4,    0]    [SMUL, SMUL, SMUL, NOP ]    \n",
      "[   6,    6,    6,    0]    [SMUL, SMUL, SMUL, NOP ]    \n",
      "[   0,    0,    0,    0]    [NOP , NOP , NOP , NOP ]    \n",
      "-------\n",
      "Instr =  2 ( 2 )\n",
      "[   0,    0,    0,    6]    [SADD, SADD, SADD, BEQ ]    \n",
      "[   2,    2,    2,    0]    [SADD, SADD, SADD, NOP ]    \n",
      "[  10,   10,   10,    0]    [SADD, SADD, SADD, NOP ]    \n",
      "[   2,    2,    2,    0]    [SADD, SADD, SADD, NOP ]    \n",
      "-------\n",
      "Instr =  3 ( 3 )\n",
      "[   0,    0,    0,    6]    [LWD , LWD , LWD , NOP ]    \n",
      "[   2,    2,    2,    0]    [SADD, SADD, SADD, NOP ]    \n",
      "[  10,   10,   10,    0]    [SADD, SADD, SADD, NOP ]    \n",
      "[  12,   12,   12,    0]    [SADD, SADD, SADD, NOP ]    \n",
      "-------\n",
      "Instr =  4 ( 4 )\n",
      "[   8,    8,    8,    5]    [SMUL, SMUL, SMUL, SSUB]    \n",
      "[   0,    0,    0,    0]    [SMUL, SMUL, SMUL, NOP ]    \n",
      "[   4,    4,    4,    0]    [SMUL, SMUL, SMUL, NOP ]    \n",
      "[  24,   12,   12,   12]    [SADD, NOP , NOP , SADD]    \n",
      "-------\n",
      "Instr =  5 ( 5 )\n",
      "[   4,    4,    4,    5]    [SADD, SADD, SADD, BEQ ]    \n",
      "[   0,    0,    0,    0]    [SADD, SADD, SADD, NOP ]    \n",
      "[   4,    4,    4,    0]    [SADD, SADD, SADD, NOP ]    \n",
      "[   8,    8,    8,   36]    [SADD, SADD, SADD, SADD]    \n",
      "-------\n",
      "Instr =  6 ( 6 )\n",
      "[   4,    4,    4,    5]    [LWD , LWD , LWD , NOP ]    \n",
      "[   0,    0,    0,    0]    [SADD, SADD, SADD, NOP ]    \n",
      "[   4,    4,    4,    0]    [SADD, SADD, SADD, NOP ]    \n",
      "[  12,   12,   12,   36]    [SADD, SADD, SADD, SWI ]    \n",
      "-------\n",
      "Instr =  7 ( 7 )\n",
      "[  10,   10,   10,    4]    [SMUL, SMUL, SMUL, SSUB]    \n",
      "[   8,    8,    8,    0]    [SMUL, SMUL, SMUL, NOP ]    \n",
      "[   0,    0,    0,    0]    [SMUL, SMUL, SMUL, NOP ]    \n",
      "[  24,   12,   12,   12]    [SADD, NOP , NOP , SADD]    \n",
      "-------\n",
      "Instr =  8 ( 8 )\n",
      "[   5,    5,    5,    4]    [SADD, SADD, SADD, BNE ]    \n",
      "[   4,    4,    4,    0]    [SADD, SADD, SADD, NOP ]    \n",
      "[   8,    8,    8,    0]    [SADD, SADD, SADD, NOP ]    \n",
      "[  10,   10,   10,   36]    [SADD, SADD, SADD, SADD]    \n",
      "-------\n",
      "Instr =  9 ( 6 )\n",
      "[   5,    5,    5,    4]    [LWD , LWD , LWD , NOP ]    \n",
      "[   4,    4,    4,    0]    [SADD, SADD, SADD, NOP ]    \n",
      "[   8,    8,    8,    0]    [SADD, SADD, SADD, NOP ]    \n",
      "[  18,   18,   18,   36]    [SADD, SADD, SADD, SWI ]    \n",
      "-------\n",
      "Instr =  10 ( 7 )\n",
      "[  12,   12,   12,    3]    [SMUL, SMUL, SMUL, SSUB]    \n",
      "[  10,   10,   10,    0]    [SMUL, SMUL, SMUL, NOP ]    \n",
      "[   8,    8,    8,    0]    [SMUL, SMUL, SMUL, NOP ]    \n",
      "[  36,   18,   18,   18]    [SADD, NOP , NOP , SADD]    \n",
      "-------\n",
      "Instr =  11 ( 8 )\n",
      "[   6,    6,    6,    3]    [SADD, SADD, SADD, BNE ]    \n",
      "[   5,    5,    5,    0]    [SADD, SADD, SADD, NOP ]    \n",
      "[  18,   18,   18,    0]    [SADD, SADD, SADD, NOP ]    \n",
      "[  12,   12,   12,   54]    [SADD, SADD, SADD, SADD]    \n",
      "-------\n",
      "Instr =  12 ( 6 )\n",
      "[   6,    6,    6,    3]    [LWD , LWD , LWD , NOP ]    \n",
      "[   5,    5,    5,    0]    [SADD, SADD, SADD, NOP ]    \n",
      "[  18,   18,   18,    0]    [SADD, SADD, SADD, NOP ]    \n",
      "[  30,   30,   30,   54]    [SADD, SADD, SADD, SWI ]    \n",
      "-------\n",
      "Instr =  13 ( 7 )\n",
      "[  14,   14,   14,    2]    [SMUL, SMUL, SMUL, SSUB]    \n",
      "[  12,   12,   12,    0]    [SMUL, SMUL, SMUL, NOP ]    \n",
      "[  10,   10,   10,    0]    [SMUL, SMUL, SMUL, NOP ]    \n",
      "[  60,   30,   30,   30]    [SADD, NOP , NOP , SADD]    \n",
      "-------\n",
      "Instr =  14 ( 8 )\n",
      "[   7,    7,    7,    2]    [SADD, SADD, SADD, BNE ]    \n",
      "[   6,    6,    6,    0]    [SADD, SADD, SADD, NOP ]    \n",
      "[  22,   22,   22,    0]    [SADD, SADD, SADD, NOP ]    \n",
      "[  14,   14,   14,   90]    [SADD, SADD, SADD, SADD]    \n",
      "-------\n",
      "Instr =  15 ( 6 )\n",
      "[   7,    7,    7,    2]    [LWD , LWD , LWD , NOP ]    \n",
      "[   6,    6,    6,    0]    [SADD, SADD, SADD, NOP ]    \n",
      "[  22,   22,   22,    0]    [SADD, SADD, SADD, NOP ]    \n",
      "[  36,   36,   36,   90]    [SADD, SADD, SADD, SWI ]    \n",
      "-------\n",
      "Instr =  16 ( 7 )\n",
      "[  16,   16,   16,    1]    [SMUL, SMUL, SMUL, SSUB]    \n",
      "[  14,   14,   14,    0]    [SMUL, SMUL, SMUL, NOP ]    \n",
      "[  12,   12,   12,    0]    [SMUL, SMUL, SMUL, NOP ]    \n",
      "[  72,   36,   36,   36]    [SADD, NOP , NOP , SADD]    \n",
      "-------\n",
      "Instr =  17 ( 8 )\n",
      "[   8,    8,    8,    1]    [SADD, SADD, SADD, BNE ]    \n",
      "[   7,    7,    7,    0]    [SADD, SADD, SADD, NOP ]    \n",
      "[  26,   26,   26,    0]    [SADD, SADD, SADD, NOP ]    \n",
      "[  16,   16,   16,  108]    [SADD, SADD, SADD, SADD]    \n",
      "-------\n",
      "Instr =  18 ( 6 )\n",
      "[   8,    8,    8,    1]    [LWD , LWD , LWD , NOP ]    \n",
      "[   7,    7,    7,    0]    [SADD, SADD, SADD, NOP ]    \n",
      "[  26,   26,   26,    0]    [SADD, SADD, SADD, NOP ]    \n",
      "[  42,   42,   42,  108]    [SADD, SADD, SADD, SWI ]    \n",
      "-------\n",
      "Instr =  19 ( 7 )\n",
      "[  18,   18,   18,    0]    [SMUL, SMUL, SMUL, SSUB]    \n",
      "[  16,   16,   16,    0]    [SMUL, SMUL, SMUL, NOP ]    \n",
      "[  14,   14,   14,    0]    [SMUL, SMUL, SMUL, NOP ]    \n",
      "[  84,   42,   42,   42]    [SADD, NOP , NOP , SADD]    \n",
      "-------\n",
      "Instr =  20 ( 8 )\n",
      "[   9,    9,    9,    0]    [SADD, SADD, SADD, BNE ]    \n",
      "[   8,    8,    8,    0]    [SADD, SADD, SADD, NOP ]    \n",
      "[  30,   30,   30,    0]    [SADD, SADD, SADD, NOP ]    \n",
      "[  18,   18,   18,  126]    [SADD, SADD, SADD, SADD]    \n",
      "-------\n",
      "Instr =  21 ( 9 )\n",
      "[   9,    9,    9,    0]    [NOP , NOP , NOP , NOP ]    \n",
      "[   8,    8,    8,    0]    [NOP , NOP , NOP , NOP ]    \n",
      "[  30,   30,   30,    0]    [NOP , NOP , NOP , NOP ]    \n",
      "[  48,   48,   48,  126]    [SADD, SADD, SADD, SWI ]    \n",
      "-------\n",
      "Instr =  22 ( 10 )\n",
      "[   9,    9,    9,    0]    [NOP , NOP , NOP , NOP ]    \n",
      "[   8,    8,    8,    0]    [NOP , NOP , NOP , NOP ]    \n",
      "[  30,   30,   30,    0]    [NOP , NOP , NOP , NOP ]    \n",
      "[  96,   48,   48,   48]    [SADD, NOP , NOP , SADD]    \n",
      "-------\n",
      "Instr =  23 ( 11 )\n",
      "[   9,    9,    9,    0]    [NOP , NOP , NOP , NOP ]    \n",
      "[   8,    8,    8,    0]    [NOP , NOP , NOP , NOP ]    \n",
      "[  30,   30,   30,    0]    [NOP , NOP , NOP , NOP ]    \n",
      "[  96,   48,   48,  144]    [NOP , NOP , NOP , SADD]    \n",
      "-------\n",
      "Instr =  24 ( 12 )\n",
      "[   9,    9,    9,    0]    [EXIT, NOP , NOP , NOP ]    \n",
      "[   8,    8,    8,    0]    [NOP , NOP , NOP , NOP ]    \n",
      "[  30,   30,   30,    0]    [NOP , NOP , NOP , NOP ]    \n",
      "[  96,   48,   48,  144]    [NOP , NOP , NOP , SWI ]    \n",
      "\n",
      "\n",
      "END\n"
     ]
    }
   ],
   "source": [
    "from cgra import *\n",
    "run(\"convolution\", \"_v2\", pr=[\"ROUT\",\"OPS\"])"
   ]
  },
  {
   "attachments": {},
   "cell_type": "markdown",
   "id": "3125a0e6",
   "metadata": {},
   "source": [
    "# Create a new kernel "
   ]
  },
  {
   "cell_type": "code",
   "execution_count": 3,
   "id": "88657fbf",
   "metadata": {},
   "outputs": [
    {
     "name": "stdout",
     "output_type": "stream",
     "text": [
      "Kernel transformer already exists!\n"
     ]
    }
   ],
   "source": [
    "from sat_to_csv import *\n",
    "from kernels import *\n",
    "\n",
    "# Kernels will be located in a folder with the kernel's name\n",
    "kernel_name = \"transformer\"\n",
    "\n",
    "# Create a new folder (if it does not exist already) and add the minimum necessary files to run it \n",
    "kernel_new(kernel_name)\n",
    "\n",
    "# If you have a assembly in the SAT-MapIt format, you can convert it to a csv \n",
    "convert( kernel_name+\"/sat.out\", kernel_name+\"/instructions.csv\" )\n",
    "\n",
    "# To test this kernel we will fill the memory with two random arrays\n",
    "# Note that the addresses in memory (36464 and 37800) correspond to inputs in the inputs.csv file)\n",
    "import random\n",
    "# kernel_add_memory_region(kernel_name, 36464, range(255))\n",
    "# kernel_add_memory_region(kernel_name, 37800, [random.randint(20,30) for _ in range(50)] )\n",
    "kernel_clear_memory(kernel_name)\n",
    "kernel_add_memory_region(kernel_name, 36464, [0, 1, 2, 3, 4, 5, 6, 7, 8, 9, 10, 11, 12, 13, 14, 15, 16, 17, 18, 19, 20, 21, 22, 23, 24, 25, 26, 27, 28, 29, 30, 31, 32, 33, 34, 35, 36, 37, 38, 39, 40, 41, 42, 43, 44, 45, 46, 47, 48, 49, 50, 51, 52, 53, 54, 55, 56, 57, 58, 59, 60, 61, 62, 63, 64, 97, 98, 99, 100, 101, 102, 103, 104, 105, 106, 107, 108, 109, 110, 111, 112, 113, 114, 115, 116, 117, 118, 119, 120, 121, 122, 91, 92, 93, 94, 95, 96, 97, 98, 99, 100, 101, 102, 103, 104, 105, 106, 107, 108, 109, 110, 111, 112, 113, 114, 115, 116, 117, 118, 119, 120, 121, 122, 123, 124, 125, 126, 127, 128, 129, 130, 131, 132, 133, 134, 135, 136, 137, 138, 139, 140, 141, 142, 143, 144, 145, 146, 147, 148, 149, 150, 151, 152, 153, 154, 155, 156, 157, 158, 159, 160, 161, 162, 163, 164, 165, 166, 167, 168, 169, 170, 171, 172, 173, 174, 175, 176, 177, 178, 179, 180, 181, 182, 183, 184, 185, 186, 187, 188, 189, 190, 191, 192, 193, 194, 195, 196, 197, 198, 199, 200, 201, 202, 203, 204, 205, 206, 207, 208, 209, 210, 211, 212, 213, 214, 215, 216, 217, 218, 219, 220, 221, 222, 223, 224, 225, 226, 227, 228, 229, 230, 231, 232, 233, 234, 235, 236, 237, 238, 239, 240, 241, 242, 243, 244, 245, 246, 247, 248, 249, 250, 251, 252, 253, 254])\n",
    "kernel_add_memory_region(kernel_name, 37800, [52, 112, 92, 86, 50, 81, 54, 111, 118, 87, 47, 68, 90, 65, 85, 105, 122, 50, 98, 82, 75, 42, 125, 66, 53, 69, 72, 129, 125, 112, 101, 111, 106, 103, 109, 45, 126, 105, 52, 114, 91, 49, 116, 39, 51, 84, 86, 83, 80, 93] )\n",
    "\n",
    "# Note that the inputs file was manually filled. This might be the hardest part of debugging a kernel from the compiler output. "
   ]
  },
  {
   "cell_type": "code",
   "execution_count": 2,
   "id": "0baec11c",
   "metadata": {},
   "outputs": [
    {
     "name": "stdout",
     "output_type": "stream",
     "text": [
      "Instr =  0 ( 0 )\n",
      "[   1,    2,    3]    [   0,    0,    0]    [   1,    2,    3]    [   0,    0,    0]    [   0,    0,    0]    [LWD R1, LWD R1, LWD R1]    \n",
      "[   4,    5,    6]    [   0,    0,    0]    [   4,    5,    6]    [   0,    0,    0]    [   0,    0,    0]    [LWD R1, LWD R1, LWD R1]    \n",
      "[   7,    8,    9]    [   0,    0,    0]    [   7,    8,    9]    [   0,    0,    0]    [   0,    0,    0]    [LWD R1, LWD R1, LWD R1]    \n",
      "-------\n",
      "Instr =  1 ( 1 )\n",
      "[   2,    3,    1]    [   0,    0,    0]    [   1,    2,    3]    [   2,    3,    1]    [   0,    0,    0]    [SADD R2 ZERO RCR, SADD R2 ZERO RCR, SADD R2 ZERO RCR]    \n",
      "[   5,    6,    4]    [   0,    0,    0]    [   4,    5,    6]    [   5,    6,    4]    [   0,    0,    0]    [SADD R2 ZERO RCR, SADD R2 ZERO RCR, SADD R2 ZERO RCR]    \n",
      "[   8,    9,    7]    [   0,    0,    0]    [   7,    8,    9]    [   8,    9,    7]    [   0,    0,    0]    [SADD R2 ZERO RCR, SADD R2 ZERO RCR, SADD R2 ZERO RCR]    \n",
      "-------\n",
      "Instr =  2 ( 2 )\n",
      "[   3,    1,    2]    [   0,    0,    0]    [   1,    2,    3]    [   2,    3,    1]    [   3,    1,    2]    [SADD R3 ZERO RCR, SADD R3 ZERO RCR, SADD R3 ZERO RCR]    \n",
      "[   6,    4,    5]    [   0,    0,    0]    [   4,    5,    6]    [   5,    6,    4]    [   6,    4,    5]    [SADD R3 ZERO RCR, SADD R3 ZERO RCR, SADD R3 ZERO RCR]    \n",
      "[   9,    7,    8]    [   0,    0,    0]    [   7,    8,    9]    [   8,    9,    7]    [   9,    7,    8]    [SADD R3 ZERO RCR, SADD R3 ZERO RCR, SADD R3 ZERO RCR]    \n",
      "-------\n",
      "Instr =  3 ( 3 )\n",
      "[  10,   10,   10]    [   0,    0,    0]    [   1,    2,    3]    [   2,    3,    1]    [   3,    1,    2]    [LWD ROUT, LWD ROUT, LWD ROUT]    \n",
      "[  10,   10,   10]    [   0,    0,    0]    [   4,    5,    6]    [   5,    6,    4]    [   6,    4,    5]    [LWD ROUT, LWD ROUT, LWD ROUT]    \n",
      "[  10,   10,   10]    [   0,    0,    0]    [   7,    8,    9]    [   8,    9,    7]    [   9,    7,    8]    [LWD ROUT, LWD ROUT, LWD ROUT]    \n",
      "-------\n",
      "Instr =  4 ( 4 )\n",
      "[  10,   20,   30]    [   0,    0,    0]    [   1,    2,    3]    [   2,    3,    1]    [   3,    1,    2]    [SMUL ROUT ROUT R1, SMUL ROUT ROUT R1, SMUL ROUT ROUT R1]    \n",
      "[  40,   50,   60]    [   0,    0,    0]    [   4,    5,    6]    [   5,    6,    4]    [   6,    4,    5]    [SMUL ROUT ROUT R1, SMUL ROUT ROUT R1, SMUL ROUT ROUT R1]    \n",
      "[  70,   80,   90]    [   0,    0,    0]    [   7,    8,    9]    [   8,    9,    7]    [   9,    7,    8]    [SMUL ROUT ROUT R1, SMUL ROUT ROUT R1, SMUL ROUT ROUT R1]    \n",
      "-------\n",
      "Instr =  5 ( 5 )\n",
      "[  10,   20,   30]    [  10,   20,   30]    [   1,    2,    3]    [   2,    3,    1]    [   3,    1,    2]    [SADD R0 ZERO ROUT, SADD R0 ZERO ROUT, SADD R0 ZERO ROUT]    \n",
      "[  40,   50,   60]    [  40,   50,   60]    [   4,    5,    6]    [   5,    6,    4]    [   6,    4,    5]    [SADD R0 ZERO ROUT, SADD R0 ZERO ROUT, SADD R0 ZERO ROUT]    \n",
      "[  70,   80,   90]    [  70,   80,   90]    [   7,    8,    9]    [   8,    9,    7]    [   9,    7,    8]    [SADD R0 ZERO ROUT, SADD R0 ZERO ROUT, SADD R0 ZERO ROUT]    \n",
      "-------\n",
      "Instr =  6 ( 6 )\n",
      "[  20,   20,   20]    [  10,   20,   30]    [   1,    2,    3]    [   2,    3,    1]    [   3,    1,    2]    [LWD ROUT, LWD ROUT, LWD ROUT]    \n",
      "[  20,   20,   20]    [  40,   50,   60]    [   4,    5,    6]    [   5,    6,    4]    [   6,    4,    5]    [LWD ROUT, LWD ROUT, LWD ROUT]    \n",
      "[  20,   20,   20]    [  70,   80,   90]    [   7,    8,    9]    [   8,    9,    7]    [   9,    7,    8]    [LWD ROUT, LWD ROUT, LWD ROUT]    \n",
      "-------\n",
      "Instr =  7 ( 7 )\n",
      "[  40,   60,   20]    [  10,   20,   30]    [   1,    2,    3]    [   2,    3,    1]    [   3,    1,    2]    [SMUL ROUT ROUT R2, SMUL ROUT ROUT R2, SMUL ROUT ROUT R2]    \n",
      "[ 100,  120,   80]    [  40,   50,   60]    [   4,    5,    6]    [   5,    6,    4]    [   6,    4,    5]    [SMUL ROUT ROUT R2, SMUL ROUT ROUT R2, SMUL ROUT ROUT R2]    \n",
      "[ 160,  180,  140]    [  70,   80,   90]    [   7,    8,    9]    [   8,    9,    7]    [   9,    7,    8]    [SMUL ROUT ROUT R2, SMUL ROUT ROUT R2, SMUL ROUT ROUT R2]    \n",
      "-------\n",
      "Instr =  8 ( 8 )\n",
      "[  50,   80,   50]    [  50,   80,   50]    [   1,    2,    3]    [   2,    3,    1]    [   3,    1,    2]    [SADD R0 R0 ROUT, SADD R0 R0 ROUT, SADD R0 R0 ROUT]    \n",
      "[ 140,  170,  140]    [ 140,  170,  140]    [   4,    5,    6]    [   5,    6,    4]    [   6,    4,    5]    [SADD R0 R0 ROUT, SADD R0 R0 ROUT, SADD R0 R0 ROUT]    \n",
      "[ 230,  260,  230]    [ 230,  260,  230]    [   7,    8,    9]    [   8,    9,    7]    [   9,    7,    8]    [SADD R0 R0 ROUT, SADD R0 R0 ROUT, SADD R0 R0 ROUT]    \n",
      "-------\n",
      "Instr =  9 ( 9 )\n",
      "[  30,   30,   30]    [  50,   80,   50]    [   1,    2,    3]    [   2,    3,    1]    [   3,    1,    2]    [LWD ROUT, LWD ROUT, LWD ROUT]    \n",
      "[  30,   30,   30]    [ 140,  170,  140]    [   4,    5,    6]    [   5,    6,    4]    [   6,    4,    5]    [LWD ROUT, LWD ROUT, LWD ROUT]    \n",
      "[  30,   30,   30]    [ 230,  260,  230]    [   7,    8,    9]    [   8,    9,    7]    [   9,    7,    8]    [LWD ROUT, LWD ROUT, LWD ROUT]    \n",
      "-------\n",
      "Instr =  10 ( 10 )\n",
      "[  60,   90,   30]    [  50,   80,   50]    [   1,    2,    3]    [   2,    3,    1]    [   3,    1,    2]    [SMUL ROUT ROUT R2, SMUL ROUT ROUT R2, SMUL ROUT ROUT R2]    \n",
      "[ 150,  180,  120]    [ 140,  170,  140]    [   4,    5,    6]    [   5,    6,    4]    [   6,    4,    5]    [SMUL ROUT ROUT R2, SMUL ROUT ROUT R2, SMUL ROUT ROUT R2]    \n",
      "[ 240,  270,  210]    [ 230,  260,  230]    [   7,    8,    9]    [   8,    9,    7]    [   9,    7,    8]    [SMUL ROUT ROUT R2, SMUL ROUT ROUT R2, SMUL ROUT ROUT R2]    \n",
      "-------\n",
      "Instr =  11 ( 11 )\n",
      "[ 110,  170,   80]    [ 110,  170,   80]    [   1,    2,    3]    [   2,    3,    1]    [   3,    1,    2]    [SADD R0 R0 ROUT, SADD R0 R0 ROUT, SADD R0 R0 ROUT]    \n",
      "[ 290,  350,  260]    [ 290,  350,  260]    [   4,    5,    6]    [   5,    6,    4]    [   6,    4,    5]    [SADD R0 R0 ROUT, SADD R0 R0 ROUT, SADD R0 R0 ROUT]    \n",
      "[ 470,  530,  440]    [ 470,  530,  440]    [   7,    8,    9]    [   8,    9,    7]    [   9,    7,    8]    [SADD R0 R0 ROUT, SADD R0 R0 ROUT, SADD R0 R0 ROUT]    \n",
      "-------\n",
      "Instr =  12 ( 12 )\n",
      "[ 110,  170,   80]    [ 110,  170,   80]    [   1,    2,    3]    [   2,    3,    1]    [   3,    1,    2]    [SWD ROUT, SWD ROUT, SWD ROUT]    \n",
      "[ 290,  350,  260]    [ 290,  350,  260]    [   4,    5,    6]    [   5,    6,    4]    [   6,    4,    5]    [SWD ROUT, SWD ROUT, SWD ROUT]    \n",
      "[ 470,  530,  440]    [ 470,  530,  440]    [   7,    8,    9]    [   8,    9,    7]    [   9,    7,    8]    [SWD ROUT, SWD ROUT, SWD ROUT]    \n",
      "-------\n",
      "Instr =  13 ( 13 )\n",
      "[ 110,  170,   80]    [ 110,  170,   80]    [   1,    2,    3]    [   2,    3,    1]    [   3,    1,    2]    [EXIT, NOP , NOP ]    \n",
      "[ 290,  350,  260]    [ 290,  350,  260]    [   4,    5,    6]    [   5,    6,    4]    [   6,    4,    5]    [NOP , NOP , NOP ]    \n",
      "[ 470,  530,  440]    [ 470,  530,  440]    [   7,    8,    9]    [   8,    9,    7]    [   9,    7,    8]    [NOP , NOP , NOP ]    \n",
      "\n",
      "\n",
      "END\n"
     ]
    }
   ],
   "source": [
    "import cgra\n",
    "cgra.run( \"transformer\",version=\"_v2\", rows=3, cols=3, pr=[\"ROUT\",\"R0\", \"R1\",\"R2\",\"R3\", \"INST\"])"
   ]
  },
  {
   "attachments": {},
   "cell_type": "markdown",
   "id": "51334fa4",
   "metadata": {},
   "source": [
    "# Your turn to play around"
   ]
  },
  {
   "cell_type": "code",
   "execution_count": 1,
   "id": "64ef2def",
   "metadata": {},
   "outputs": [],
   "source": [
    "\n",
    "from sat_to_csv import *\n",
    "from kernels import *\n",
    "\n",
    "# Kernels will be located in a folder with the kernel's name\n",
    "kernel_name = \"transformer\"\n",
    "convert( kernel_name+\"/sat.out\", kernel_name+\"/instructions.csv\" )"
   ]
  },
  {
   "cell_type": "code",
   "execution_count": 1,
   "id": "66aeffb6",
   "metadata": {},
   "outputs": [
    {
     "ename": "IndexError",
     "evalue": "list index out of range",
     "output_type": "error",
     "traceback": [
      "\u001b[0;31m---------------------------------------------------------------------------\u001b[0m",
      "\u001b[0;31mIndexError\u001b[0m                                Traceback (most recent call last)",
      "Cell \u001b[0;32mIn[1], line 2\u001b[0m\n\u001b[1;32m      1\u001b[0m \u001b[38;5;28;01mimport\u001b[39;00m \u001b[38;5;21;01mcgra\u001b[39;00m\n\u001b[0;32m----> 2\u001b[0m \u001b[43mcgra\u001b[49m\u001b[38;5;241;43m.\u001b[39;49m\u001b[43mrun\u001b[49m\u001b[43m(\u001b[49m\u001b[43m \u001b[49m\u001b[38;5;124;43m\"\u001b[39;49m\u001b[38;5;124;43mtransformer\u001b[39;49m\u001b[38;5;124;43m\"\u001b[39;49m\u001b[43m,\u001b[49m\u001b[43mversion\u001b[49m\u001b[38;5;241;43m=\u001b[39;49m\u001b[38;5;124;43m\"\u001b[39;49m\u001b[38;5;124;43m_v3\u001b[39;49m\u001b[38;5;124;43m\"\u001b[39;49m\u001b[43m,\u001b[49m\u001b[43m \u001b[49m\u001b[43mpr\u001b[49m\u001b[38;5;241;43m=\u001b[39;49m\u001b[43m[\u001b[49m\u001b[38;5;124;43m\"\u001b[39;49m\u001b[38;5;124;43mROUT\u001b[39;49m\u001b[38;5;124;43m\"\u001b[39;49m\u001b[43m,\u001b[49m\u001b[38;5;124;43m\"\u001b[39;49m\u001b[38;5;124;43mR0\u001b[39;49m\u001b[38;5;124;43m\"\u001b[39;49m\u001b[43m,\u001b[49m\u001b[43m \u001b[49m\u001b[38;5;124;43m\"\u001b[39;49m\u001b[38;5;124;43mR1\u001b[39;49m\u001b[38;5;124;43m\"\u001b[39;49m\u001b[43m,\u001b[49m\u001b[38;5;124;43m\"\u001b[39;49m\u001b[38;5;124;43mR2\u001b[39;49m\u001b[38;5;124;43m\"\u001b[39;49m\u001b[43m,\u001b[49m\u001b[43m \u001b[49m\u001b[38;5;124;43m\"\u001b[39;49m\u001b[38;5;124;43mR3\u001b[39;49m\u001b[38;5;124;43m\"\u001b[39;49m\u001b[43m,\u001b[49m\u001b[43m \u001b[49m\u001b[38;5;124;43m\"\u001b[39;49m\u001b[38;5;124;43mINST\u001b[39;49m\u001b[38;5;124;43m\"\u001b[39;49m\u001b[43m]\u001b[49m\u001b[43m)\u001b[49m\n",
      "File \u001b[0;32m~/epfl/ESL-CGRA-simulator/cgra.py:369\u001b[0m, in \u001b[0;36mrun\u001b[0;34m(kernel, version, pr, limit)\u001b[0m\n\u001b[1;32m    366\u001b[0m \u001b[38;5;28;01mwith\u001b[39;00m \u001b[38;5;28mopen\u001b[39m( kernel \u001b[38;5;241m+\u001b[39m \u001b[38;5;124m\"\u001b[39m\u001b[38;5;124m/\u001b[39m\u001b[38;5;124m\"\u001b[39m\u001b[38;5;241m+\u001b[39mFILENAME_MEM\u001b[38;5;241m+\u001b[39mEXT, \u001b[38;5;124m'\u001b[39m\u001b[38;5;124mr\u001b[39m\u001b[38;5;124m'\u001b[39m) \u001b[38;5;28;01mas\u001b[39;00m f:\n\u001b[1;32m    367\u001b[0m     \u001b[38;5;28;01mfor\u001b[39;00m row \u001b[38;5;129;01min\u001b[39;00m csv\u001b[38;5;241m.\u001b[39mreader(f): mem\u001b[38;5;241m.\u001b[39mappend(row)\n\u001b[0;32m--> 369\u001b[0m oup, mem \u001b[38;5;241m=\u001b[39m \u001b[43mCGRA\u001b[49m\u001b[43m(\u001b[49m\u001b[43m \u001b[49m\u001b[43mker\u001b[49m\u001b[43m,\u001b[49m\u001b[43m \u001b[49m\u001b[43mmem\u001b[49m\u001b[43m,\u001b[49m\u001b[43m \u001b[49m\u001b[43minp\u001b[49m\u001b[43m,\u001b[49m\u001b[43m \u001b[49m\u001b[43moup\u001b[49m\u001b[43m \u001b[49m\u001b[43m)\u001b[49m\u001b[38;5;241;43m.\u001b[39;49m\u001b[43mrun\u001b[49m\u001b[43m(\u001b[49m\u001b[43mpr\u001b[49m\u001b[43m,\u001b[49m\u001b[43m \u001b[49m\u001b[43mlimit\u001b[49m\u001b[43m)\u001b[49m\n\u001b[1;32m    371\u001b[0m \u001b[38;5;28;01mwith\u001b[39;00m \u001b[38;5;28mopen\u001b[39m( kernel \u001b[38;5;241m+\u001b[39m \u001b[38;5;124m\"\u001b[39m\u001b[38;5;124m/\u001b[39m\u001b[38;5;124m\"\u001b[39m\u001b[38;5;241m+\u001b[39mFILENAME_MEM_O\u001b[38;5;241m+\u001b[39mEXT, \u001b[38;5;124m'\u001b[39m\u001b[38;5;124mw+\u001b[39m\u001b[38;5;124m'\u001b[39m) \u001b[38;5;28;01mas\u001b[39;00m f:\n\u001b[1;32m    372\u001b[0m     \u001b[38;5;28;01mfor\u001b[39;00m row \u001b[38;5;129;01min\u001b[39;00m mem: csv\u001b[38;5;241m.\u001b[39mwriter(f)\u001b[38;5;241m.\u001b[39mwriterow(row)\n",
      "File \u001b[0;32m~/epfl/ESL-CGRA-simulator/cgra.py:75\u001b[0m, in \u001b[0;36mCGRA.run\u001b[0;34m(self, pr, limit)\u001b[0m\n\u001b[1;32m     73\u001b[0m \u001b[38;5;28;01mdef\u001b[39;00m \u001b[38;5;21mrun\u001b[39m( \u001b[38;5;28mself\u001b[39m, pr, limit ):\n\u001b[1;32m     74\u001b[0m     steps \u001b[38;5;241m=\u001b[39m \u001b[38;5;241m0\u001b[39m\n\u001b[0;32m---> 75\u001b[0m     \u001b[38;5;28;01mwhile\u001b[39;00m \u001b[38;5;129;01mnot\u001b[39;00m \u001b[38;5;28;43mself\u001b[39;49m\u001b[38;5;241;43m.\u001b[39;49m\u001b[43mstep\u001b[49m\u001b[43m(\u001b[49m\u001b[43mpr\u001b[49m\u001b[43m)\u001b[49m:\n\u001b[1;32m     76\u001b[0m         \u001b[38;5;28mprint\u001b[39m(\u001b[38;5;124m\"\u001b[39m\u001b[38;5;124m-------\u001b[39m\u001b[38;5;124m\"\u001b[39m)\n\u001b[1;32m     77\u001b[0m         steps \u001b[38;5;241m+\u001b[39m\u001b[38;5;241m=\u001b[39m \u001b[38;5;241m1\u001b[39m\n",
      "File \u001b[0;32m~/epfl/ESL-CGRA-simulator/cgra.py:91\u001b[0m, in \u001b[0;36mCGRA.step\u001b[0;34m(self, prs)\u001b[0m\n\u001b[1;32m     85\u001b[0m \u001b[38;5;28;01mfor\u001b[39;00m r \u001b[38;5;129;01min\u001b[39;00m \u001b[38;5;28mrange\u001b[39m(N_ROWS):\n\u001b[1;32m     86\u001b[0m     \u001b[38;5;66;03m#print(\"r \", r)\u001b[39;00m\n\u001b[1;32m     87\u001b[0m     \u001b[38;5;28;01mfor\u001b[39;00m c \u001b[38;5;129;01min\u001b[39;00m \u001b[38;5;28mrange\u001b[39m(N_COLS):\n\u001b[1;32m     88\u001b[0m         \u001b[38;5;66;03m#print(\"c \", c)\u001b[39;00m\n\u001b[1;32m     89\u001b[0m         \u001b[38;5;66;03m#print(\"len(self.cells) \", len(self.cells))\u001b[39;00m\n\u001b[1;32m     90\u001b[0m         \u001b[38;5;66;03m#print(\"len(self.cells[r]) \", len(self.cells[r]))\u001b[39;00m\n\u001b[0;32m---> 91\u001b[0m         \u001b[38;5;28;43mself\u001b[39;49m\u001b[38;5;241;43m.\u001b[39;49m\u001b[43mcells\u001b[49m\u001b[43m[\u001b[49m\u001b[43mr\u001b[49m\u001b[43m]\u001b[49m[c]\u001b[38;5;241m.\u001b[39mupdate()\n\u001b[1;32m     92\u001b[0m \u001b[38;5;28;01mif\u001b[39;00m PRINT_OUTS: \u001b[38;5;28mprint\u001b[39m(\u001b[38;5;124m\"\u001b[39m\u001b[38;5;124mInstr = \u001b[39m\u001b[38;5;124m\"\u001b[39m, \u001b[38;5;28mself\u001b[39m\u001b[38;5;241m.\u001b[39mcycles, \u001b[38;5;124m\"\u001b[39m\u001b[38;5;124m(\u001b[39m\u001b[38;5;124m\"\u001b[39m,\u001b[38;5;28mself\u001b[39m\u001b[38;5;241m.\u001b[39minstr2exec,\u001b[38;5;124m\"\u001b[39m\u001b[38;5;124m)\u001b[39m\u001b[38;5;124m\"\u001b[39m)\n\u001b[1;32m     93\u001b[0m \u001b[38;5;28;01mfor\u001b[39;00m r \u001b[38;5;129;01min\u001b[39;00m \u001b[38;5;28mrange\u001b[39m(N_ROWS):\n",
      "\u001b[0;31mIndexError\u001b[0m: list index out of range"
     ]
    }
   ],
   "source": [
    "import cgra\n",
    "cgra.run( \"transformer\",version=\"_v3\", pr=[\"ROUT\",\"R0\", \"R1\",\"R2\", \"R3\", \"INST\"])"
   ]
  },
  {
   "cell_type": "code",
   "execution_count": 4,
   "id": "058b690b",
   "metadata": {},
   "outputs": [
    {
     "data": {
      "text/html": [
       "<style>.container { width:100% !important; }</style>"
      ],
      "text/plain": [
       "<IPython.core.display.HTML object>"
      ]
     },
     "metadata": {},
     "output_type": "display_data"
    }
   ],
   "source": [
    "from IPython.display import display, HTML\n",
    "display(HTML(\"<style>.container { width:100% !important; }</style>\"))"
   ]
  },
  {
   "cell_type": "code",
   "execution_count": null,
   "id": "9e6e57dc-a9e3-40fb-987a-2e70c22e9c31",
   "metadata": {},
   "outputs": [],
   "source": []
  }
 ],
 "metadata": {
  "kernelspec": {
   "display_name": "Python 3 (ipykernel)",
   "language": "python",
   "name": "python3"
  },
  "language_info": {
   "codemirror_mode": {
    "name": "ipython",
    "version": 3
   },
   "file_extension": ".py",
   "mimetype": "text/x-python",
   "name": "python",
   "nbconvert_exporter": "python",
   "pygments_lexer": "ipython3",
   "version": "3.11.4"
  }
 },
 "nbformat": 4,
 "nbformat_minor": 5
}
