{
 "cells": [
  {
   "cell_type": "code",
   "execution_count": null,
   "metadata": {},
   "outputs": [],
   "source": [
    "# Imports\n",
    "import pandas as pd\n",
    "from random import randint\n",
    "from src import *\n",
    "from src.simulator import SIMULATOR"
   ]
  },
  {
   "cell_type": "code",
   "execution_count": null,
   "metadata": {},
   "outputs": [],
   "source": [
    "sim = SIMULATOR()\n",
    "\n",
    "# --------------------------------------------\n",
    "#               KERNEL CONFIGURATION\n",
    "# --------------------------------------------\n",
    "kernel_path = './kernels/mac_test/'\n",
    "kernel_number = 1 \n",
    "column_usage = [True, False] \n",
    "nInstrPerCol = 7 \n",
    "imem_add_start = 0 \n",
    "srf_spm_addres = 0 \n",
    "version=\"\"\n",
    "\n",
    "sim.kernel_config(column_usage, nInstrPerCol, imem_add_start, srf_spm_addres, kernel_number)"
   ]
  },
  {
   "cell_type": "code",
   "execution_count": null,
   "metadata": {},
   "outputs": [],
   "source": [
    "# --------------------------------------------\n",
    "#                LOAD SPM DATA\n",
    "# --------------------------------------------\n",
    "# Load vector A\n",
    "vector_A = [1 for i in range(SPM_NWORDS)]\n",
    "nline = 1\n",
    "sim.setSPMLine(nline, vector_A)\n",
    "# Load vector B\n",
    "vector_B = [2 for i in range(SPM_NWORDS)]\n",
    "nline = 2\n",
    "sim.setSPMLine(nline, vector_B)\n",
    "# Load vector C\n",
    "vector_C = [1 for i in range(SPM_NWORDS)]\n",
    "nline = 3\n",
    "sim.setSPMLine(nline, vector_C)\n",
    "\n",
    "sim.displaySPMLine(1)\n",
    "sim.displaySPMLine(2)\n",
    "sim.displaySPMLine(3)"
   ]
  },
  {
   "cell_type": "code",
   "execution_count": null,
   "metadata": {},
   "outputs": [],
   "source": [
    "# --------------------------------------------\n",
    "#              COMPILE ASM TO HEX\n",
    "# --------------------------------------------\n",
    "sim.compileAsmToHex(kernel_path, kernel_number, version=version)"
   ]
  },
  {
   "cell_type": "code",
   "execution_count": null,
   "metadata": {},
   "outputs": [],
   "source": [
    "# --------------------------------------------\n",
    "#                 LOAD KERNEL\n",
    "# --------------------------------------------\n",
    "\n",
    "# This needs the hex instructions, if you don't provide them, generate then compiling the asm\n",
    "sim.kernel_load(kernel_path, version=version + \"_autogen\", kernel_number=kernel_number)\n",
    "\n",
    "# --------------------------------------------\n",
    "#               SIMULATE EXECUTION\n",
    "# --------------------------------------------\n",
    "show_lcu = []\n",
    "show_srf = []\n",
    "show_lsu = []\n",
    "show_rcs = [[],[],[],[]]\n",
    "show_mxcu = []\n",
    "display_ops = [show_lcu, show_lsu, show_mxcu, show_rcs, show_srf]\n",
    "\n",
    "sim.run(kernel_number, display_ops=display_ops)"
   ]
  },
  {
   "cell_type": "markdown",
   "metadata": {},
   "source": [
    "Let's check that we have the correct output in the SPM line just by looking at it."
   ]
  },
  {
   "cell_type": "code",
   "execution_count": null,
   "metadata": {},
   "outputs": [],
   "source": [
    "sim.displaySPMLine(1)\n",
    "sim.displaySPMLine(2)\n",
    "sim.displaySPMLine(3)\n",
    "sim.displaySPMLine(4)\n",
    "sim.displaySPMLine(5)"
   ]
  },
  {
   "cell_type": "markdown",
   "metadata": {},
   "source": [
    "We can check it more rigorously. We can define our function in python and check that the output matches the CGRA output."
   ]
  },
  {
   "cell_type": "code",
   "execution_count": null,
   "metadata": {},
   "outputs": [],
   "source": [
    "sim.displaySPMLine(3)\n",
    "vwr2a_res = sim.getSPMLine(3)\n",
    "errors_idx = []\n",
    "for i in range(len(vector_A)):\n",
    "    if vector_A[i] + vector_B[i] != vwr2a_res[i]:\n",
    "        errors_idx.append(i)\n",
    "if len(errors_idx) == 0:\n",
    "    print(\"The result is correct!\")\n",
    "else:\n",
    "    print(\"Oops, something went wrong. There are \" + str(len(errors_idx)) + \" errors.\")\n",
    "    print(errors_idx)\n"
   ]
  },
  {
   "cell_type": "markdown",
   "metadata": {},
   "source": [
    "Now it's your time to play!"
   ]
  },
  {
   "cell_type": "code",
   "execution_count": null,
   "metadata": {},
   "outputs": [],
   "source": [
    "#Let's do it!"
   ]
  },
  {
   "cell_type": "markdown",
   "metadata": {},
   "source": [
    "Test multiplication"
   ]
  },
  {
   "cell_type": "code",
   "execution_count": null,
   "metadata": {},
   "outputs": [],
   "source": [
    "sim = SIMULATOR()\n",
    "\n",
    "# --------------------------------------------\n",
    "#               KERNEL CONFIGURATION\n",
    "# --------------------------------------------\n",
    "kernel_path = './kernels/mul_vectors/'\n",
    "kernel_number = 1 \n",
    "column_usage = [True, False] \n",
    "nInstrPerCol = 6 \n",
    "imem_add_start = 0 \n",
    "srf_spm_addres = 0 \n",
    "version=\"\"\n",
    "\n",
    "sim.kernel_config(column_usage, nInstrPerCol, imem_add_start, srf_spm_addres, kernel_number)"
   ]
  },
  {
   "cell_type": "code",
   "execution_count": null,
   "metadata": {},
   "outputs": [],
   "source": [
    "# --------------------------------------------\n",
    "#                LOAD SPM DATA\n",
    "# --------------------------------------------\n",
    "# Load vector A\n",
    "vector_A = [3 for i in range(SPM_NWORDS)]\n",
    "nline = 1\n",
    "sim.setSPMLine(nline, vector_A)\n",
    "# Load vector B\n",
    "vector_B = [2 for i in range(SPM_NWORDS)]\n",
    "nline = 2\n",
    "sim.setSPMLine(nline, vector_B)\n",
    "\n",
    "sim.displaySPMLine(1)\n",
    "sim.displaySPMLine(2)"
   ]
  },
  {
   "cell_type": "code",
   "execution_count": null,
   "metadata": {},
   "outputs": [],
   "source": [
    "# --------------------------------------------\n",
    "#              COMPILE ASM TO HEX\n",
    "# --------------------------------------------\n",
    "sim.compileAsmToHex(kernel_path, kernel_number, version=version)"
   ]
  },
  {
   "cell_type": "code",
   "execution_count": null,
   "metadata": {},
   "outputs": [],
   "source": [
    "# --------------------------------------------\n",
    "#                 LOAD KERNEL\n",
    "# --------------------------------------------\n",
    "\n",
    "# This needs the hex instructions, if you don't provide them, generate then compiling the asm\n",
    "sim.kernel_load(kernel_path, version=version + \"_autogen\", kernel_number=kernel_number)\n",
    "\n",
    "# --------------------------------------------\n",
    "#               SIMULATE EXECUTION\n",
    "# --------------------------------------------\n",
    "show_lcu = []\n",
    "show_srf = []\n",
    "show_lsu = []\n",
    "show_rcs = [[],[],[],[]]\n",
    "show_mxcu = []\n",
    "display_ops = [show_lcu, show_lsu, show_mxcu, show_rcs, show_srf]\n",
    "\n",
    "sim.run(kernel_number, display_ops=display_ops)"
   ]
  },
  {
   "cell_type": "code",
   "execution_count": null,
   "metadata": {},
   "outputs": [],
   "source": [
    "sim.displaySPMLine(3)\n",
    "vwr2a_res = sim.getSPMLine(3)\n",
    "errors_idx = []\n",
    "for i in range(len(vector_A)):\n",
    "    if vector_A[i] * vector_B[i] != vwr2a_res[i]:\n",
    "        errors_idx.append(i)\n",
    "if len(errors_idx) == 0:\n",
    "    print(\"The result is correct!\")\n",
    "else:\n",
    "    print(\"Oops, something went wrong. There are \" + str(len(errors_idx)) + \" errors.\")\n",
    "    print(errors_idx)\n"
   ]
  }
 ],
 "metadata": {
  "kernelspec": {
   "display_name": "base",
   "language": "python",
   "name": "python3"
  },
  "language_info": {
   "codemirror_mode": {
    "name": "ipython",
    "version": 3
   },
   "file_extension": ".py",
   "mimetype": "text/x-python",
   "name": "python",
   "nbconvert_exporter": "python",
   "pygments_lexer": "ipython3",
   "version": "3.11.4"
  }
 },
 "nbformat": 4,
 "nbformat_minor": 2
}
